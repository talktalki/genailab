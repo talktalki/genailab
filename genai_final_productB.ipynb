{
 "cells": [
  {
   "cell_type": "markdown",
   "metadata": {},
   "source": [
    "## **Generating Product Image from Customer Reviews**\n",
    "### 94844 Gen AI Lab Final Project\n",
    "#### April 2024"
   ]
  },
  {
   "cell_type": "code",
   "execution_count": 2,
   "metadata": {},
   "outputs": [
    {
     "name": "stderr",
     "output_type": "stream",
     "text": [
      "c:\\Users\\mjaks\\anaconda3\\envs\\genAIlab_hw2\\Lib\\site-packages\\tqdm\\auto.py:21: TqdmWarning: IProgress not found. Please update jupyter and ipywidgets. See https://ipywidgets.readthedocs.io/en/stable/user_install.html\n",
      "  from .autonotebook import tqdm as notebook_tqdm\n"
     ]
    }
   ],
   "source": [
    "# Import Libraries\n",
    "import os, io, json, transformers, pinecone, fitz, pypdf, faiss, sqlite3, langchain_community, langchain, openai, math, time \n",
    "import requests\n",
    "from transformers import pipeline\n",
    "import pandas as pd\n",
    "import numpy as np\n",
    "from io import StringIO\n",
    "from dotenv import load_dotenv\n",
    "from operator import itemgetter\n",
    "import logging\n",
    "\n",
    "from langchain import document_loaders, embeddings\n",
    "from langchain.vectorstores import FAISS\n",
    "from langchain.embeddings import HuggingFaceEmbeddings\n",
    "#from llama_index.core.node_parser import SentenceSplitter\n",
    "from langchain_experimental.text_splitter import SemanticChunker\n",
    "from langchain_text_splitters import RecursiveCharacterTextSplitter\n",
    "from langchain_community.vectorstores import FAISS\n",
    "from langchain_core.output_parsers import StrOutputParser\n",
    "from langchain_core.prompts import ChatPromptTemplate\n",
    "from langchain_core.runnables import RunnableLambda, RunnablePassthrough\n",
    "from langchain_openai import ChatOpenAI, OpenAIEmbeddings\n",
    "\n",
    "from pinecone import Pinecone, ServerlessSpec, Pinecone         # vector store\n",
    "\n",
    "from llama_index.core import (\n",
    "    VectorStoreIndex,\n",
    "    StorageContext,\n",
    "    SimpleDirectoryReader\n",
    ")\n",
    "\n",
    "from llama_index.embeddings.openai import OpenAIEmbedding\n",
    "from llama_index.vector_stores.pinecone import PineconeVectorStore\n",
    "from llama_index.core.schema import TextNode\n",
    "from llama_index.core.extractors import (\n",
    "    QuestionsAnsweredExtractor,\n",
    "    TitleExtractor,\n",
    ")\n",
    "from llama_index.core.ingestion import IngestionPipeline\n",
    "from llama_index.llms.openai import OpenAI\n",
    "\n",
    "# sentence transformers\n",
    "from sentence_transformers import SentenceTransformer\n",
    "from llama_index.embeddings.huggingface import HuggingFaceEmbedding"
   ]
  },
  {
   "cell_type": "code",
   "execution_count": 3,
   "metadata": {},
   "outputs": [],
   "source": [
    "load_dotenv()\n",
    "\n",
    "access_endpoint_api_key = os.getenv('access_endpoint_api_key')\n",
    "openai_key = os.getenv('OPENAI_API_KEY')\n",
    "pinecone_api_key = os.getenv('PINECONE_API_KEY')\n",
    "environment = os.getenv('PINECONE_ENV')\n",
    "\n",
    "# configure Pinecone client\n",
    "pinecone_api_key = '4cdd7de3-9866-4385-93cd-df26e52ec9bf'\n",
    "pc = Pinecone(api_key=pinecone_api_key)"
   ]
  },
  {
   "cell_type": "code",
   "execution_count": 5,
   "metadata": {},
   "outputs": [],
   "source": [
    "# LOGGER\n",
    "logging.basicConfig(level=logging.INFO, format='%(asctime)s - %(levelname)s - %(message)s',\n",
    "                    filename='log/test.log')"
   ]
  },
  {
   "cell_type": "markdown",
   "metadata": {},
   "source": [
    "## **Part 1: Product Selection and Customer Review Data Collection**\n",
    "- Select 3 different products from different categories on a digital marketplace (e.g., Amazon).\n",
    "- Please take into consideration different factors (e.g., product categories, popularity levels) when making your selection.\n",
    "- Explain the rationale of your choices.\n",
    "- Collect the corresponding product descriptions (textual content) and customer reviews (textual content) for each product"
   ]
  },
  {
   "cell_type": "code",
   "execution_count": 6,
   "metadata": {},
   "outputs": [],
   "source": [
    "from bs4 import BeautifulSoup\n",
    "from urllib.request import Request, urlopen\n",
    "from urllib.error import HTTPError, URLError\n",
    "import time\n",
    "\n",
    "def get_page(url, headers):\n",
    "    \"\"\"\n",
    "    Get webpage results into a Beautiful Soup object.\n",
    "    \"\"\"\n",
    "    try:\n",
    "        req = Request(url, headers=headers)\n",
    "        page = urlopen(req)\n",
    "        soup = BeautifulSoup(page, \"html.parser\")\n",
    "        return soup\n",
    "    except HTTPError as e:\n",
    "        print(f\"HTTP error: {e.code} {e.reason}\")\n",
    "    except URLError as e:\n",
    "        print(f\"URL error: {e.reason}\")\n",
    "    except Exception as e:\n",
    "        print(f\"General error: {e}\")\n",
    "    return None\n",
    "\n",
    "def scrape_product_details(base_url, product_id, headers):\n",
    "    \"\"\"\n",
    "    Scrape product description and up to 200 most recent reviews.\n",
    "    \"\"\"\n",
    "    url = f\"{base_url}/dp/{product_id}/\"\n",
    "    print(\"page url:\", url)\n",
    "    soup = get_page(url, headers)\n",
    "    if not soup:\n",
    "        return None, []\n",
    "\n",
    "    # Find product description\n",
    "    try:\n",
    "        #description = soup.find_all('div', id='productDescription', class_=\"a-section a-spacing-small\").get_text(strip=True)\n",
    "        description = soup.find('div', id='feature-bullets').get_text(strip=True)\n",
    "    except AttributeError:\n",
    "        description = \"No description available\"\n",
    "\n",
    "    reviews = []\n",
    "    # Adjust the URL for 'Most Recent' reviews and iterate through pages\n",
    "    review_url = f\"{base_url}/product-reviews/{product_id}/\"\n",
    "    print(\"review url:\", review_url)\n",
    "    for i in range(1, 21):  # Assume there are 10 reviews per page, fetch 20 pages\n",
    "        url = f\"{review_url}?pageNumber={i}&sortBy=helpful\"\n",
    "        soup = get_page(url, headers)\n",
    "        if not soup:\n",
    "            continue\n",
    "        review_divs = soup.find_all('div', {'data-hook': 'review'})\n",
    "        for div in review_divs:\n",
    "            try:\n",
    "                #title = div.find('a', {'data-hook': 'review-title'}).get_text(strip=True)\n",
    "                body = div.find('span', {'data-hook': 'review-body'}).get_text(strip=True)\n",
    "                reviews.append(body)\n",
    "                if len(reviews) >= 300:\n",
    "                    break\n",
    "            except AttributeError:\n",
    "                continue\n",
    "        if len(reviews) >= 300:\n",
    "            break\n",
    "        time.sleep(1)  # Sleep to prevent too frequent requests\n",
    "\n",
    "    return description, reviews"
   ]
  },
  {
   "cell_type": "code",
   "execution_count": 7,
   "metadata": {},
   "outputs": [
    {
     "name": "stdout",
     "output_type": "stream",
     "text": [
      "page url: https://www.amazon.com/DVQ-ART-Einstein-Painting-Colorful/dp/B075K5MB7N/\n",
      "review url: https://www.amazon.com/DVQ-ART-Einstein-Painting-Colorful/product-reviews/B075K5MB7N/\n",
      "{'Product A': {'description': 'About this itemGrafitti art decor Einstein wall art painting on canvas contemporary art for living room high definition giclee prints artwork for living room bedroom decoration. This is a good choice for gifts for relatives and friends.is is a good choice for gifts for relatives and friends.A perfect wall decorations paintings for living room, bedroom, kitchen, office, hotel, dining room, office, bar etc..Stretched and Framed canvas art prints ready to hang for home decorations wall decor. Each panel has a black hook already mounted on the wooden bar for easy hanging out of box.HD printing, waterproof, high-quality thick canvas, friendly environment ink jet, high-quality wood and hookHigh Definition Giclee modern canvas printing artwork, picture photo printed on high quality canvas. A great gift idea for your relatives and friends.', 'reviews': ['Nice bright colors to add a little pop to any room', 'Amazing quality and got here fast! Bigger than I thought too! :)', \"I am pleased with this purchase. I ordered the 24x36. The colors are vibrant and fun, it adds a nice energy to the room. Love truly is the answer so I'm all for these vibes Einstein!! I would purchase again. It's not a deep canvas mounting to it lays pretty close to the wall, allowing you to hang this in many locations and it won't get in the way.\", 'Very nice quality. Big but also a little pricey. Will make a great addition to any room.', \"For whatever reason, I was expecting this to be a poster (sometimes I do late night shopping when I can't sleep and don't fully read the descriptions). Pleasantly surprised that it was printed canvas. Brings a beautiful pop of color to my bedroom. I think I want to get another one for my classroom because I love it so much!\", \"I bought this in 24x36 to mount in the eaves of my house outdoors. Before hanging it I reinforced the wood frame on the back with L brackets and T brackets. Then I overcoated it front and back with an industrial waterproofer and UV spray. Since it's lightweight it was easy to hand with stainless steel screws. Time will tell how well it holds up even with the reinforcing and UV coating. Looks super cool!\", 'The color pops! Absolutely beautiful. I would buy it again in a heartbeat especially since I have been eyeing this image for years. This is the largest photo I’ve found of this image and everyone comments on it. ❤️', 'Was a bit hesitant to buy a large print since I was burned in the past, but these did not disappoint! Looks great up close with no pixelation and for the price this is a steal.', 'Loved it and I am so happy I ordered it don’t think twice about it. I wanted to buy it months back but I was skeptical and so glad I finally did.', 'Colorful, looks great on the wall, I get lots of compliments.', 'printed on a level one canvas. Meaning its very thin cheap wood. So the result is it looks cheap unless you end up paying for a nice frame. College level decor with no frame. Just a nice $90 poster', 'Just a smile....', 'I like it.  Adds a lot of color to my living room.  I took a black paint pen and outlined most of the picture so it was darker and more defined.  I went over the letters on the sign and I like how it turned out.', 'Just when I thought Steven Spielberg couldn’t be more of a genius, he posed for this full two and a half hour movie picture. I watch it over and over again every night. I hope he wins best picture Oscar for this 🤞', 'I love this painting even more than I imagined. It’s so big, the colors are so bright and it makes me so happy when I look at it. It’s probably my favorite piece of art I ever bought.', 'Love it , it is exactly as shown.', 'I was very pleased! It arrives just as it is pictured. It is a nice print. I ordered the smallest size and the details are still of nice quality. You won’t be disappointed.  Definitely worth the price', 'I bought a white bunch of artwork and this is my favorite. The quality is amazing and the colors are bright. Couldn’t be happier.', 'I love this colorful piece but did think the colors would be alittle more vibrant.', 'Cute', 'I\\'ve always admired Albert Einstein and believe he had a \"fun loving\" side.  This print shows that.  Makes this retired mathematics teacher smile!', 'Honestly for the price , this was a real good print. I’ve bought canvas prints from Amazon before & nothing was as vibrant & well done as this one.', 'Love this! Looks fabulous in my finished basement. Good value and such vibrant colors', 'LOVE THIS DVQ Einstein Framed art piece! Well crafted, lightweight enough to easily hang, looks great with all my other Einstein paintings and photos. Makes me smile each time I see it!', 'Amazing quality and you can feel the appreciation from the company. And as a customer it makes me want to come back again and again', 'Lightweight but good quality. I love it!', 'Beautiful canvas print arrived ready to hang.', 'The canvas is perfect exactly how it looks ! Came in perfect condition & looks amazing on my wall', 'I bought this as a gift, and I am so happy that I did. The colors are vibrant, and the quality surpasses the cost of the item. I’d purchase it again!', 'It is what you think it is, and it happens to be well packaged, has a mouting loop on back, and print is perfect unless you walk around are wearing jewelers loupes....I would absolutley buy again or buy as a gift.', 'Good bang for the buck but after shipping and customs mmmm will be better off printing locally.', 'It’s really colorful and a fun piece in our living room!', 'Great vibrant colors and it came two days early.', 'This is a fun, bright print and the size is great. However, the wood frame is not aligned and it does not sit flat against the wall. I had to use sticky squares to help it stay against the wall.', 'great gift, nice size, perfect colors and art work', 'Great quality canvas print set up perfectly on wood backing.  Just makes me really happy. Arrived quickly!', 'Just like the description. I love it', 'I love this!!!  I got the biggest size and the print is very bright and canvas is of good quality.', 'Colors are awesome!! Love it.. I saw it on Amazon and had to have it.', 'Very pop art ish! Prefect add to my bedroom.', 'I absolutely love it! The colors are bright as shown in the pics... It looks very nice in our living room. Very happy with this purchase!', 'I expected a better quality canvas. It looks cheap for the cost and like the colors were fading.', 'Mine came with a nice little wall hook that made putting it up very easy. And it look how you would expect.....Still not Ginger', 'Very awesome print. Bound was well done. One of my favorite prints in my room.', 'This piece is gorgeous. Arrived exactly as advertised and the colours really pop!', 'true colors it was a perfect addition to my wall', 'I loved', 'Exactly what I was looking for! Doesn’t look cheesy or cheap. Fit perfect in my office and everyone loves it.', 'It’s cute but I think I need something bigger for the chosen wall. I’m only disappointed in the frame-too thin. Not meant for standing out.', 'Love this print! So colorful and silly. It arrived in great condition and appears exactly as depicted. Good quality and price', 'I love it! It’s the perfect addition to my home office.The colors and que quality are as expected!', 'Amazing quality. Worth your money for sure', 'Wonderful colors !  As a gift it was greatly appreciated.', 'Great product', 'LOVE THIS.It is an amazing photo...Well made!I love it.Good size....beautiful!', 'This looks great in our small guest bathroom.  It brightens the walls easily.', 'Perfect. Just like the photo.', 'As described. Came well packaged.', 'Quite small, but good quality.', 'The print itself is perfect. However, the frame is extremely cheap and flimsy! Mine came with a bent frame and if you apply the least bit of pressure it sounds like it will break. It’s not a terrible product but it’s cheaply made and not worth the $60 I paid for a 24x36 print. I would recommend a different company for this product.', 'The print is high quality, and came packaged super well - no possibility of it being damaged during regular shipment.', 'The picture stands out in a room', 'Beautiful bright colors. Makes me happy to look at', 'Perfect', 'Very happy with the print. Great quality.', 'The media could not be loaded.Liked it at first, but very, very loosely mounted.  See the video to see how floppy it is.', 'Amazing love it', \"Really happy with this canvas print. It was a gift, but I'm thinking about getting one for myself!\", 'Looks great', 'Amazing!', 'Real nice picture', 'Loved it. Good quality and exactly as described! Great value for the money.', 'Looks incredible under black lights! Wink wink', 'Awesome accent piece for smaller walls.', 'Love it!! Looks just like the picture . Super cute !!', 'Real nice', 'Good', 'Just what I expected.', 'Love it!!', 'Great', 'Love it. Well worth the money!', 'Love this picture', 'Great product.', 'Love it! It looks amazing in my living room.', 'Same the picture', 'Beautifl!', 'Great price', 'Looks great', 'Exactly what promised!', 'Exactly as ordered...looks great thank you', 'Beautiful canvas!', 'Beautiful!', 'looks perfect on my wall! love it!', 'Color quality is awesome but it feels cheap. Over all its still cool.', 'Great canvas', 'Amazing! Perfect quality!', 'Side does not like', 'LOVE IT', 'Looks great', '']}}\n"
     ]
    }
   ],
   "source": [
    "# Usage example\n",
    "headers = {\"User-Agent\": \"Mozilla/5.0 (Windows NT 10.0; Win64; x64) AppleWebKit/537.36 (KHTML, like Gecko) Chrome/58.0.3029.110 Safari/537.3\"}\n",
    "urls = {#\"https://www.amazon.com/Samsonite-Omni-Hardside-Spinner-Teal\": \"B013WFNZRE\",\n",
    "        #\"https://www.amazon.com/Hurtle-3-Wheeled-Scooter-Kids-Graffiti\": \"B08BDGS58Q\",\n",
    "        \"https://www.amazon.com/DVQ-ART-Einstein-Painting-Colorful\": \"B075K5MB7N\", \n",
    "        #\"https://www.amazon.com/DeLonghi-ECAM29084SB-Magnifica-LatteCrema-Espresso\": \"B0B38KRTV6\"\n",
    "        }\n",
    "\n",
    "descriptions = []\n",
    "reviews = []\n",
    "for base_url, product_id in urls.items():\n",
    "    description, review = scrape_product_details(base_url, product_id, headers)\n",
    "    descriptions.append(description)\n",
    "    reviews.append(review)\n",
    "\n",
    "products = [\"Product A\"\n",
    "            #, \"Product B\", \"Product C\"\n",
    "            ]\n",
    "\n",
    "# Create dictionary\n",
    "product_data = {}\n",
    "for i in range(len(products)):\n",
    "    product_data[products[i]] = {\n",
    "        \"description\": descriptions[i],\n",
    "        \"reviews\": reviews[i]\n",
    "    }\n",
    "print(product_data)"
   ]
  },
  {
   "cell_type": "code",
   "execution_count": 8,
   "metadata": {},
   "outputs": [
    {
     "name": "stdout",
     "output_type": "stream",
     "text": [
      "About this itemGrafitti art decor Einstein wall art painting on canvas contemporary art for living room high definition giclee prints artwork for living room bedroom decoration. This is a good choice for gifts for relatives and friends.is is a good choice for gifts for relatives and friends.A perfect wall decorations paintings for living room, bedroom, kitchen, office, hotel, dining room, office, bar etc..Stretched and Framed canvas art prints ready to hang for home decorations wall decor. Each panel has a black hook already mounted on the wooden bar for easy hanging out of box.HD printing, waterproof, high-quality thick canvas, friendly environment ink jet, high-quality wood and hookHigh Definition Giclee modern canvas printing artwork, picture photo printed on high quality canvas. A great gift idea for your relatives and friends. \n",
      " ['Nice bright colors to add a little pop to any room', 'Amazing quality and got here fast! Bigger than I thought too! :)', \"I am pleased with this purchase. I ordered the 24x36. The colors are vibrant and fun, it adds a nice energy to the room. Love truly is the answer so I'm all for these vibes Einstein!! I would purchase again. It's not a deep canvas mounting to it lays pretty close to the wall, allowing you to hang this in many locations and it won't get in the way.\", 'Very nice quality. Big but also a little pricey. Will make a great addition to any room.', \"For whatever reason, I was expecting this to be a poster (sometimes I do late night shopping when I can't sleep and don't fully read the descriptions). Pleasantly surprised that it was printed canvas. Brings a beautiful pop of color to my bedroom. I think I want to get another one for my classroom because I love it so much!\", \"I bought this in 24x36 to mount in the eaves of my house outdoors. Before hanging it I reinforced the wood frame on the back with L brackets and T brackets. Then I overcoated it front and back with an industrial waterproofer and UV spray. Since it's lightweight it was easy to hand with stainless steel screws. Time will tell how well it holds up even with the reinforcing and UV coating. Looks super cool!\", 'The color pops! Absolutely beautiful. I would buy it again in a heartbeat especially since I have been eyeing this image for years. This is the largest photo I’ve found of this image and everyone comments on it. ❤️', 'Was a bit hesitant to buy a large print since I was burned in the past, but these did not disappoint! Looks great up close with no pixelation and for the price this is a steal.', 'Loved it and I am so happy I ordered it don’t think twice about it. I wanted to buy it months back but I was skeptical and so glad I finally did.', 'Colorful, looks great on the wall, I get lots of compliments.', 'printed on a level one canvas. Meaning its very thin cheap wood. So the result is it looks cheap unless you end up paying for a nice frame. College level decor with no frame. Just a nice $90 poster', 'Just a smile....', 'I like it.  Adds a lot of color to my living room.  I took a black paint pen and outlined most of the picture so it was darker and more defined.  I went over the letters on the sign and I like how it turned out.', 'Just when I thought Steven Spielberg couldn’t be more of a genius, he posed for this full two and a half hour movie picture. I watch it over and over again every night. I hope he wins best picture Oscar for this 🤞', 'I love this painting even more than I imagined. It’s so big, the colors are so bright and it makes me so happy when I look at it. It’s probably my favorite piece of art I ever bought.', 'Love it , it is exactly as shown.', 'I was very pleased! It arrives just as it is pictured. It is a nice print. I ordered the smallest size and the details are still of nice quality. You won’t be disappointed.  Definitely worth the price', 'I bought a white bunch of artwork and this is my favorite. The quality is amazing and the colors are bright. Couldn’t be happier.', 'I love this colorful piece but did think the colors would be alittle more vibrant.', 'Cute', 'I\\'ve always admired Albert Einstein and believe he had a \"fun loving\" side.  This print shows that.  Makes this retired mathematics teacher smile!', 'Honestly for the price , this was a real good print. I’ve bought canvas prints from Amazon before & nothing was as vibrant & well done as this one.', 'Love this! Looks fabulous in my finished basement. Good value and such vibrant colors', 'LOVE THIS DVQ Einstein Framed art piece! Well crafted, lightweight enough to easily hang, looks great with all my other Einstein paintings and photos. Makes me smile each time I see it!', 'Amazing quality and you can feel the appreciation from the company. And as a customer it makes me want to come back again and again', 'Lightweight but good quality. I love it!', 'Beautiful canvas print arrived ready to hang.', 'The canvas is perfect exactly how it looks ! Came in perfect condition & looks amazing on my wall', 'I bought this as a gift, and I am so happy that I did. The colors are vibrant, and the quality surpasses the cost of the item. I’d purchase it again!', 'It is what you think it is, and it happens to be well packaged, has a mouting loop on back, and print is perfect unless you walk around are wearing jewelers loupes....I would absolutley buy again or buy as a gift.', 'Good bang for the buck but after shipping and customs mmmm will be better off printing locally.', 'It’s really colorful and a fun piece in our living room!', 'Great vibrant colors and it came two days early.', 'This is a fun, bright print and the size is great. However, the wood frame is not aligned and it does not sit flat against the wall. I had to use sticky squares to help it stay against the wall.', 'great gift, nice size, perfect colors and art work', 'Great quality canvas print set up perfectly on wood backing.  Just makes me really happy. Arrived quickly!', 'Just like the description. I love it', 'I love this!!!  I got the biggest size and the print is very bright and canvas is of good quality.', 'Colors are awesome!! Love it.. I saw it on Amazon and had to have it.', 'Very pop art ish! Prefect add to my bedroom.', 'I absolutely love it! The colors are bright as shown in the pics... It looks very nice in our living room. Very happy with this purchase!', 'I expected a better quality canvas. It looks cheap for the cost and like the colors were fading.', 'Mine came with a nice little wall hook that made putting it up very easy. And it look how you would expect.....Still not Ginger', 'Very awesome print. Bound was well done. One of my favorite prints in my room.', 'This piece is gorgeous. Arrived exactly as advertised and the colours really pop!', 'true colors it was a perfect addition to my wall', 'I loved', 'Exactly what I was looking for! Doesn’t look cheesy or cheap. Fit perfect in my office and everyone loves it.', 'It’s cute but I think I need something bigger for the chosen wall. I’m only disappointed in the frame-too thin. Not meant for standing out.', 'Love this print! So colorful and silly. It arrived in great condition and appears exactly as depicted. Good quality and price', 'I love it! It’s the perfect addition to my home office.The colors and que quality are as expected!', 'Amazing quality. Worth your money for sure', 'Wonderful colors !  As a gift it was greatly appreciated.', 'Great product', 'LOVE THIS.It is an amazing photo...Well made!I love it.Good size....beautiful!', 'This looks great in our small guest bathroom.  It brightens the walls easily.', 'Perfect. Just like the photo.', 'As described. Came well packaged.', 'Quite small, but good quality.', 'The print itself is perfect. However, the frame is extremely cheap and flimsy! Mine came with a bent frame and if you apply the least bit of pressure it sounds like it will break. It’s not a terrible product but it’s cheaply made and not worth the $60 I paid for a 24x36 print. I would recommend a different company for this product.', 'The print is high quality, and came packaged super well - no possibility of it being damaged during regular shipment.', 'The picture stands out in a room', 'Beautiful bright colors. Makes me happy to look at', 'Perfect', 'Very happy with the print. Great quality.', 'The media could not be loaded.Liked it at first, but very, very loosely mounted.  See the video to see how floppy it is.', 'Amazing love it', \"Really happy with this canvas print. It was a gift, but I'm thinking about getting one for myself!\", 'Looks great', 'Amazing!', 'Real nice picture', 'Loved it. Good quality and exactly as described! Great value for the money.', 'Looks incredible under black lights! Wink wink', 'Awesome accent piece for smaller walls.', 'Love it!! Looks just like the picture . Super cute !!', 'Real nice', 'Good', 'Just what I expected.', 'Love it!!', 'Great', 'Love it. Well worth the money!', 'Love this picture', 'Great product.', 'Love it! It looks amazing in my living room.', 'Same the picture', 'Beautifl!', 'Great price', 'Looks great', 'Exactly what promised!', 'Exactly as ordered...looks great thank you', 'Beautiful canvas!', 'Beautiful!', 'looks perfect on my wall! love it!', 'Color quality is awesome but it feels cheap. Over all its still cool.', 'Great canvas', 'Amazing! Perfect quality!', 'Side does not like', 'LOVE IT', 'Looks great', '']\n"
     ]
    }
   ],
   "source": [
    "print(product_data['Product A']['description'], '\\n', product_data['Product A']['reviews'])"
   ]
  },
  {
   "cell_type": "markdown",
   "metadata": {},
   "source": [
    "### Save scraped output"
   ]
  },
  {
   "cell_type": "code",
   "execution_count": 9,
   "metadata": {},
   "outputs": [],
   "source": [
    "import json\n",
    "\n",
    "# Write JSON to a file\n",
    "with open('wall_data.json', 'w', encoding='utf-8') as f:\n",
    "    json.dump(product_data, f, ensure_ascii=False, indent=4)\n",
    "\n",
    "\n",
    "\n"
   ]
  },
  {
   "cell_type": "markdown",
   "metadata": {},
   "source": [
    "## **Part 2: Analysis of Customer Reviews with LLM**\n",
    "- Use OpenAI’s GPT 3.5 turbo API to conduct text analysis to extract valuable information from the textual data collected above and build a more wholistic understanding about the product.\n",
    "- Some analyses that are relevant to consider include, but not limited to, for example, text summarization, extraction of particular product features (e.g., visual information), or sentiment analysis.\n",
    "- You can do the analyses using prompt engineering (with different prompt strategies), RAG, or a combination of both.\n",
    "- When doing the analysis, you may need to consider different documentation chunking strategies given the input token limit OpenAI API has.\n",
    "- You could consider using a vector database to store your text embedding if necessary, but not mandatory.\n",
    "- You also need to think about what is an effective output from this step, given that your goal next step is to send this output into the diffusion model for meaningful product image generation."
   ]
  },
  {
   "cell_type": "code",
   "execution_count": 10,
   "metadata": {},
   "outputs": [
    {
     "name": "stdout",
     "output_type": "stream",
     "text": [
      "{'Product A': {'description': 'About this itemGrafitti art decor Einstein wall art painting on canvas contemporary art for living room high definition giclee prints artwork for living room bedroom decoration. This is a good choice for gifts for relatives and friends.is is a good choice for gifts for relatives and friends.A perfect wall decorations paintings for living room, bedroom, kitchen, office, hotel, dining room, office, bar etc..Stretched and Framed canvas art prints ready to hang for home decorations wall decor. Each panel has a black hook already mounted on the wooden bar for easy hanging out of box.HD printing, waterproof, high-quality thick canvas, friendly environment ink jet, high-quality wood and hookHigh Definition Giclee modern canvas printing artwork, picture photo printed on high quality canvas. A great gift idea for your relatives and friends.', 'reviews': ['Nice bright colors to add a little pop to any room', 'Amazing quality and got here fast! Bigger than I thought too! :)', \"I am pleased with this purchase. I ordered the 24x36. The colors are vibrant and fun, it adds a nice energy to the room. Love truly is the answer so I'm all for these vibes Einstein!! I would purchase again. It's not a deep canvas mounting to it lays pretty close to the wall, allowing you to hang this in many locations and it won't get in the way.\", 'Very nice quality. Big but also a little pricey. Will make a great addition to any room.', \"For whatever reason, I was expecting this to be a poster (sometimes I do late night shopping when I can't sleep and don't fully read the descriptions). Pleasantly surprised that it was printed canvas. Brings a beautiful pop of color to my bedroom. I think I want to get another one for my classroom because I love it so much!\", \"I bought this in 24x36 to mount in the eaves of my house outdoors. Before hanging it I reinforced the wood frame on the back with L brackets and T brackets. Then I overcoated it front and back with an industrial waterproofer and UV spray. Since it's lightweight it was easy to hand with stainless steel screws. Time will tell how well it holds up even with the reinforcing and UV coating. Looks super cool!\", 'The color pops! Absolutely beautiful. I would buy it again in a heartbeat especially since I have been eyeing this image for years. This is the largest photo I’ve found of this image and everyone comments on it. ❤️', 'Was a bit hesitant to buy a large print since I was burned in the past, but these did not disappoint! Looks great up close with no pixelation and for the price this is a steal.', 'Loved it and I am so happy I ordered it don’t think twice about it. I wanted to buy it months back but I was skeptical and so glad I finally did.', 'Colorful, looks great on the wall, I get lots of compliments.', 'printed on a level one canvas. Meaning its very thin cheap wood. So the result is it looks cheap unless you end up paying for a nice frame. College level decor with no frame. Just a nice $90 poster', 'Just a smile....', 'I like it.  Adds a lot of color to my living room.  I took a black paint pen and outlined most of the picture so it was darker and more defined.  I went over the letters on the sign and I like how it turned out.', 'Just when I thought Steven Spielberg couldn’t be more of a genius, he posed for this full two and a half hour movie picture. I watch it over and over again every night. I hope he wins best picture Oscar for this 🤞', 'I love this painting even more than I imagined. It’s so big, the colors are so bright and it makes me so happy when I look at it. It’s probably my favorite piece of art I ever bought.', 'Love it , it is exactly as shown.', 'I was very pleased! It arrives just as it is pictured. It is a nice print. I ordered the smallest size and the details are still of nice quality. You won’t be disappointed.  Definitely worth the price', 'I bought a white bunch of artwork and this is my favorite. The quality is amazing and the colors are bright. Couldn’t be happier.', 'I love this colorful piece but did think the colors would be alittle more vibrant.', 'Cute', 'I\\'ve always admired Albert Einstein and believe he had a \"fun loving\" side.  This print shows that.  Makes this retired mathematics teacher smile!', 'Honestly for the price , this was a real good print. I’ve bought canvas prints from Amazon before & nothing was as vibrant & well done as this one.', 'Love this! Looks fabulous in my finished basement. Good value and such vibrant colors', 'LOVE THIS DVQ Einstein Framed art piece! Well crafted, lightweight enough to easily hang, looks great with all my other Einstein paintings and photos. Makes me smile each time I see it!', 'Amazing quality and you can feel the appreciation from the company. And as a customer it makes me want to come back again and again', 'Lightweight but good quality. I love it!', 'Beautiful canvas print arrived ready to hang.', 'The canvas is perfect exactly how it looks ! Came in perfect condition & looks amazing on my wall', 'I bought this as a gift, and I am so happy that I did. The colors are vibrant, and the quality surpasses the cost of the item. I’d purchase it again!', 'It is what you think it is, and it happens to be well packaged, has a mouting loop on back, and print is perfect unless you walk around are wearing jewelers loupes....I would absolutley buy again or buy as a gift.', 'Good bang for the buck but after shipping and customs mmmm will be better off printing locally.', 'It’s really colorful and a fun piece in our living room!', 'Great vibrant colors and it came two days early.', 'This is a fun, bright print and the size is great. However, the wood frame is not aligned and it does not sit flat against the wall. I had to use sticky squares to help it stay against the wall.', 'great gift, nice size, perfect colors and art work', 'Great quality canvas print set up perfectly on wood backing.  Just makes me really happy. Arrived quickly!', 'Just like the description. I love it', 'I love this!!!  I got the biggest size and the print is very bright and canvas is of good quality.', 'Colors are awesome!! Love it.. I saw it on Amazon and had to have it.', 'Very pop art ish! Prefect add to my bedroom.', 'I absolutely love it! The colors are bright as shown in the pics... It looks very nice in our living room. Very happy with this purchase!', 'I expected a better quality canvas. It looks cheap for the cost and like the colors were fading.', 'Mine came with a nice little wall hook that made putting it up very easy. And it look how you would expect.....Still not Ginger', 'Very awesome print. Bound was well done. One of my favorite prints in my room.', 'This piece is gorgeous. Arrived exactly as advertised and the colours really pop!', 'true colors it was a perfect addition to my wall', 'I loved', 'Exactly what I was looking for! Doesn’t look cheesy or cheap. Fit perfect in my office and everyone loves it.', 'It’s cute but I think I need something bigger for the chosen wall. I’m only disappointed in the frame-too thin. Not meant for standing out.', 'Love this print! So colorful and silly. It arrived in great condition and appears exactly as depicted. Good quality and price', 'I love it! It’s the perfect addition to my home office.The colors and que quality are as expected!', 'Amazing quality. Worth your money for sure', 'Wonderful colors !  As a gift it was greatly appreciated.', 'Great product', 'LOVE THIS.It is an amazing photo...Well made!I love it.Good size....beautiful!', 'This looks great in our small guest bathroom.  It brightens the walls easily.', 'Perfect. Just like the photo.', 'As described. Came well packaged.', 'Quite small, but good quality.', 'The print itself is perfect. However, the frame is extremely cheap and flimsy! Mine came with a bent frame and if you apply the least bit of pressure it sounds like it will break. It’s not a terrible product but it’s cheaply made and not worth the $60 I paid for a 24x36 print. I would recommend a different company for this product.', 'The print is high quality, and came packaged super well - no possibility of it being damaged during regular shipment.', 'The picture stands out in a room', 'Beautiful bright colors. Makes me happy to look at', 'Perfect', 'Very happy with the print. Great quality.', 'The media could not be loaded.Liked it at first, but very, very loosely mounted.  See the video to see how floppy it is.', 'Amazing love it', \"Really happy with this canvas print. It was a gift, but I'm thinking about getting one for myself!\", 'Looks great', 'Amazing!', 'Real nice picture', 'Loved it. Good quality and exactly as described! Great value for the money.', 'Looks incredible under black lights! Wink wink', 'Awesome accent piece for smaller walls.', 'Love it!! Looks just like the picture . Super cute !!', 'Real nice', 'Good', 'Just what I expected.', 'Love it!!', 'Great', 'Love it. Well worth the money!', 'Love this picture', 'Great product.', 'Love it! It looks amazing in my living room.', 'Same the picture', 'Beautifl!', 'Great price', 'Looks great', 'Exactly what promised!', 'Exactly as ordered...looks great thank you', 'Beautiful canvas!', 'Beautiful!', 'looks perfect on my wall! love it!', 'Color quality is awesome but it feels cheap. Over all its still cool.', 'Great canvas', 'Amazing! Perfect quality!', 'Side does not like', 'LOVE IT', 'Looks great', '']}}\n"
     ]
    }
   ],
   "source": [
    "# Path to the JSON file\n",
    "json_file_path = 'wall_data.json'\n",
    "\n",
    "# Read JSON from a file\n",
    "with open(json_file_path, 'r', encoding='utf-8') as file:\n",
    "    product_data = json.load(file)\n",
    "\n",
    "# Print the data to verify it's read correctly\n",
    "print(product_data)"
   ]
  },
  {
   "cell_type": "code",
   "execution_count": 11,
   "metadata": {},
   "outputs": [],
   "source": [
    "# Method 2: pull data from pdf\n",
    "doc = fitz.open(\"coffeemaker_product.pdf\")"
   ]
  },
  {
   "cell_type": "code",
   "execution_count": 12,
   "metadata": {},
   "outputs": [],
   "source": [
    "# Chunk text from pdf\n",
    "text_splitter = SemanticChunker(OpenAIEmbeddings())\n",
    "text_chunks = []\n",
    "doc_idxs = []\n",
    "\n",
    "for doc_idx, page in enumerate(doc):\n",
    "    page_text = page.get_text(\"text\")\n",
    "    cur_text_chunks = text_splitter.split_text(page_text)\n",
    "    text_chunks.extend(cur_text_chunks)\n",
    "    doc_idxs.extend([doc_idx] * len(cur_text_chunks))"
   ]
  },
  {
   "cell_type": "code",
   "execution_count": 13,
   "metadata": {},
   "outputs": [],
   "source": [
    "def create_textnode(usepdf=False):\n",
    "    nodes = []\n",
    "    # Use scraped chunks\n",
    "    if usepdf == False:\n",
    "        # Create a TextNode for the description\n",
    "        desc_node = TextNode(text=product_data[i]['description'])\n",
    "        nodes.append(desc_node)\n",
    "\n",
    "        # Create a TextNode for each review\n",
    "        for review in product_data[i]['reviews']:\n",
    "            review_node = TextNode(text=review)\n",
    "            nodes.append(review_node)\n",
    "    # Use text from pdf, chunked\n",
    "    else:\n",
    "        for idx, text_chunk in enumerate(text_chunks):\n",
    "            node = TextNode(text=text_chunk)\n",
    "            src_doc_idx = doc_idxs[idx]\n",
    "            src_page = doc[src_doc_idx]\n",
    "            nodes.append(node)\n",
    "    \n",
    "    return nodes"
   ]
  },
  {
   "cell_type": "code",
   "execution_count": 14,
   "metadata": {},
   "outputs": [],
   "source": [
    "### CHANGE HERE ###\n",
    "# Select which product to analyze\n",
    "# Madi: Product B and usepdf=False\n",
    "# Jyoti: usepdf=True\n",
    "\n",
    "i = \"Product A\"\n",
    "\n",
    "nodes = create_textnode(usepdf=False)"
   ]
  },
  {
   "cell_type": "code",
   "execution_count": 15,
   "metadata": {},
   "outputs": [
    {
     "name": "stderr",
     "output_type": "stream",
     "text": [
      "100%|██████████| 5/5 [00:02<00:00,  2.13it/s]\n",
      "100%|██████████| 101/101 [00:48<00:00,  2.09it/s]\n"
     ]
    }
   ],
   "source": [
    "gpt_3_5_turbo = \"gpt-3.5-turbo\"\n",
    "llm = OpenAI(model=gpt_3_5_turbo)\n",
    "\n",
    "extractors = [\n",
    "    TitleExtractor(nodes=5, llm=llm),\n",
    "    QuestionsAnsweredExtractor(questions=3, llm=llm),\n",
    "]\n",
    "\n",
    "pipeline = IngestionPipeline(\n",
    "    transformations=extractors,\n",
    ")\n",
    "\n",
    "nodes = await pipeline.arun(nodes=nodes, in_place=False)"
   ]
  },
  {
   "cell_type": "code",
   "execution_count": 16,
   "metadata": {},
   "outputs": [],
   "source": [
    "embed_model_3_small = \"text-embedding-3-small\"\n",
    "embed_model = OpenAIEmbedding(model=embed_model_3_small, openai_api_key=openai_key)\n",
    "\n",
    "# create embeddings for the text dataset\n",
    "for node in nodes:\n",
    "    node_embedding = embed_model.get_text_embedding(\n",
    "        node.get_content(metadata_mode=\"all\")\n",
    "    )\n",
    "    node.embedding = node_embedding"
   ]
  },
  {
   "cell_type": "code",
   "execution_count": 17,
   "metadata": {},
   "outputs": [],
   "source": [
    "use_serverless = os.environ.get(\"USE_SERVERLESS\", \"False\").lower() == \"true\"\n",
    "\n",
    "if use_serverless:\n",
    "    spec = pinecone.ServerlessSpec(cloud='aws', region='us-west-2')\n",
    "else:\n",
    "    spec = pinecone.PodSpec(environment=environment)\n",
    "\n",
    "# Name our Pinecone Index\n",
    "index_name = \"hw03\"\n",
    "\n",
    "# If a Pinecone index of the same name already exists, delete it:\n",
    "if index_name in pc.list_indexes().names():\n",
    "    pc.delete_index(index_name)"
   ]
  },
  {
   "cell_type": "code",
   "execution_count": 18,
   "metadata": {},
   "outputs": [
    {
     "name": "stdout",
     "output_type": "stream",
     "text": [
      "Using serverless: False\n"
     ]
    }
   ],
   "source": [
    "print(\"Using serverless:\",use_serverless)"
   ]
  },
  {
   "cell_type": "code",
   "execution_count": 19,
   "metadata": {},
   "outputs": [
    {
     "name": "stdout",
     "output_type": "stream",
     "text": [
      "hw03\n"
     ]
    }
   ],
   "source": [
    "# Name our Pinecone Index\n",
    "index_name = \"hw03\"\n",
    "\n",
    "dimensions = 1536 #768              # the dimensions of the index need to align with the LLM we are using for the RAG system. For example, if using openAI then dimenion = 1536. If using Llama2, then dimension = 384.\n",
    "\n",
    "pc.create_index(\n",
    "    name=index_name, \n",
    "    dimension=dimensions, \n",
    "    metric=\"cosine\",          # we can use different distance metrics to measure the similarity between vector embeddings and user queries. this is where we define what similarity metric we are going to use for the vector store.\n",
    "    spec=spec\n",
    ")\n",
    "\n",
    "# wait for index to be ready before connecting\n",
    "while not pc.describe_index(index_name).status['ready']:\n",
    "    time.sleep(1)\n",
    "\n",
    "for index in pc.list_indexes():\n",
    "    print(index['name'])\n",
    "\n",
    "pc.describe_index(\"hw03\")\n",
    "\n",
    "pc_index = pc.Index(index_name)  # create an index to use in the vector store\n",
    "\n",
    "vector_store = PineconeVectorStore(pinecone_index=pc_index)    # this function creates a vector store where we will add and store embeddings"
   ]
  },
  {
   "cell_type": "code",
   "execution_count": 20,
   "metadata": {},
   "outputs": [
    {
     "data": {
      "text/plain": [
       "{'dimension': 1536,\n",
       " 'index_fullness': 0.0,\n",
       " 'namespaces': {},\n",
       " 'total_vector_count': 0}"
      ]
     },
     "execution_count": 20,
     "metadata": {},
     "output_type": "execute_result"
    }
   ],
   "source": [
    "# nothing so far - empty index\n",
    "pc_index.describe_index_stats()"
   ]
  },
  {
   "cell_type": "code",
   "execution_count": 21,
   "metadata": {},
   "outputs": [
    {
     "name": "stderr",
     "output_type": "stream",
     "text": [
      "Upserted vectors: 100%|██████████| 101/101 [00:04<00:00, 22.55it/s]\n"
     ]
    },
    {
     "data": {
      "text/plain": [
       "['ff724ff6-f7e9-48af-8efd-c47701e61958',\n",
       " 'ae318551-e5e6-4f4d-addf-cacb6130274d',\n",
       " 'ac1e9c3a-7989-4ec8-85b7-5a4f0d7d410a',\n",
       " '436f78b6-ac67-4e23-85cb-52cdcd51faca',\n",
       " 'd0e335e2-b5e8-43ac-a338-f810dc0f9c8e',\n",
       " '9392df8d-e2d9-41c1-964c-58d401a064fd',\n",
       " '74c88181-0abe-4e0f-accb-e90a3ad59b5d',\n",
       " 'e13cec00-4207-42c2-a1a6-8ab7a8b25bfb',\n",
       " 'be6e1e6d-707d-4c03-b135-c93f172b4e01',\n",
       " '21719cea-e1d6-4b77-9790-239c957ea07d',\n",
       " 'd4d63f75-df11-4844-ae5d-737ddeeddcff',\n",
       " '058449d2-098c-491d-a41c-581c963964b0',\n",
       " '620371c7-fd64-4508-b002-a37089e769c6',\n",
       " 'bbe60e4d-8a78-4d38-8658-9e2ccb94f4ac',\n",
       " 'bdb260df-deeb-40ae-9eaf-c86ed22da1f5',\n",
       " '1dec90ac-5738-413d-b6e7-d67003bf243c',\n",
       " 'b90795cc-38d1-4638-9b25-92fd88da8d35',\n",
       " '923cc31f-2e4d-4539-bb07-6e920fff9e71',\n",
       " '28d82eed-0384-4bc4-9f81-81b7867e6ebe',\n",
       " '3002a365-3657-404c-b9fa-0d431323fa62',\n",
       " 'c4515668-18c9-4343-8cad-6d389f3e3995',\n",
       " '6557784c-239f-4cfc-a984-4127e69984b2',\n",
       " '3448ecdc-5728-40e3-8f6d-2055c58a936b',\n",
       " '4fe83cb3-894a-4658-89aa-da2997ce4049',\n",
       " '0cbbee09-e22e-4484-b035-36824f9562fb',\n",
       " 'cbdd67b6-6686-4cb9-a072-aeff609d7100',\n",
       " '24921934-b1c8-4a84-ad81-335b014f156f',\n",
       " 'fc5abd4b-be15-40d3-ad63-33b874a5417c',\n",
       " '2d1f98a8-1055-40ec-bb45-f213c944c597',\n",
       " '2b1b8e18-86a9-4b4c-ada9-409df4185ee1',\n",
       " 'e32feabd-bb39-44fc-9f09-9abc95126d20',\n",
       " '21e884d5-a26d-456d-a1b6-336e9ccf42c1',\n",
       " 'cc189dc8-9de1-41ff-913d-1061d3696ff4',\n",
       " '10aef25f-8870-450d-8811-47e675231867',\n",
       " 'fe5ffdaa-14a3-43a1-8ba1-7b3abb86f1b7',\n",
       " '6724cc68-7c50-49a9-8900-f7389fe8805d',\n",
       " 'deb457a9-541b-4ef3-9807-1ec569a8a4d8',\n",
       " 'f2b9ee11-8603-413b-8b9c-5d737d001f30',\n",
       " 'dccf2c09-634d-451a-bd17-8cd3ce50bd49',\n",
       " 'aca0427e-ad40-41d7-b5da-81a9c9d7c0a0',\n",
       " 'af2bba87-9bb5-4d90-a879-60e5325033da',\n",
       " '97b71383-3d88-4541-b74f-fd29704caca0',\n",
       " '21810ad0-1b83-4a46-b953-ca0ea95b23ce',\n",
       " '4731be26-fd7f-438e-88bf-3cacbb648820',\n",
       " 'dc2d749b-4bf8-4f7e-bbe1-40d6fffe5915',\n",
       " '041a48b9-e03d-48e6-ba38-81a839176578',\n",
       " 'cc117684-d203-4faa-93b7-cebe76c3ebd0',\n",
       " '8c1d6bef-3fcb-4b86-9341-abb172a320a1',\n",
       " '7d0d97a7-77e2-4935-9b0c-ed1a05c33832',\n",
       " '73b58904-dfce-44b6-9ba7-c9585be542bc',\n",
       " '5eea3ad7-ad11-46d5-8bed-fea2730a440c',\n",
       " '49e8f94c-4dee-4b42-b6b7-8ee1b20fff3d',\n",
       " '0bafd156-515f-40aa-bd9e-d26c7ad65dbf',\n",
       " '9ed70bef-5730-4bfa-b51a-9412a2643ce4',\n",
       " '2b2d5213-093a-4b61-b98f-7314b557edb8',\n",
       " '0755095e-9630-4fe1-9f13-fecc1a47ffe1',\n",
       " 'ef327aa1-4918-476b-bba3-afc07a8a33ea',\n",
       " 'c50bce9b-85c4-4f9a-80bc-a0d772d9813d',\n",
       " 'b77e4079-ffe4-49d1-b1c2-5511fd59cdce',\n",
       " '5e9a6b4c-0447-4271-ab75-80d055fd9bd2',\n",
       " 'b12a1b6d-be45-4753-bc7e-d72d64aebfee',\n",
       " '00cb0327-4926-4feb-b3af-10a40710f821',\n",
       " '5e9218ad-7cbf-479e-bd1e-3a838f06bd5f',\n",
       " 'd7361667-7c4e-46f8-a632-9bc4f8aa249d',\n",
       " '80832bae-06db-435d-9a37-d70f969c9085',\n",
       " 'cbb95cf0-255b-4a44-a7d3-44b579abac90',\n",
       " 'c4c5b81a-e5c2-4c3a-8889-49a135496c4b',\n",
       " '59a4e3ee-9313-4eb0-87b0-08eaef9fd9fb',\n",
       " '48baef3d-76d7-4aa5-859d-c9b51e625e3f',\n",
       " '0911e0c8-98af-42cf-8975-d0ad1269077c',\n",
       " '4a91beda-ec2b-4bf4-9c3b-cf19aea73f57',\n",
       " 'f60d89b0-803d-4f2d-9ab6-cbe1e861ea88',\n",
       " '4915e70a-9230-4db6-8c34-32f6eddd21d7',\n",
       " '4fda9271-183f-4ea9-9684-19be54b6bb75',\n",
       " 'e3d2eb29-dc93-4d85-805c-d3cd4da64386',\n",
       " 'eb79ebe2-fd8a-4220-b302-c0d42d85d781',\n",
       " 'a2a5e5ab-fc24-446a-9986-359b19b98111',\n",
       " 'b37dbe58-3a16-472b-b124-10c00ecaac28',\n",
       " '75be50e9-4669-4d22-91a3-fcccacceb59e',\n",
       " '20848f2f-1bd6-4c99-ad49-faa9827d033f',\n",
       " '2b64ae2f-4c01-4693-b308-1ff4fdbe22be',\n",
       " '272cb4cc-9da3-459b-9320-e74bd692e6a0',\n",
       " 'c16d9416-ef43-4518-bbb7-d78df29e58e4',\n",
       " '811ce49d-d2c1-4bb3-86f8-707f16f6023f',\n",
       " 'ce7be51c-8268-4635-ad2e-afca81f42b2b',\n",
       " '777db2b0-c13f-452c-a27e-2c6b504d86d1',\n",
       " 'd0b41cdc-344c-4d0a-83e3-0aa80ac6dfc6',\n",
       " '03d75246-6240-42d8-af5c-71f2fb96bc2f',\n",
       " 'f6cf40c2-4e49-4d90-8f8b-3ef1289fb72b',\n",
       " '03a75aee-ba7e-4769-bb53-36b0b0062518',\n",
       " '6d7fa196-8fa2-4806-8038-b96b018ec365',\n",
       " '21af50e1-1d21-4733-aeff-937455eab330',\n",
       " 'f526ed59-cbb8-4e3b-9350-b83f105b3227',\n",
       " 'e01e03b2-6e74-4a6b-a199-fc824f484750',\n",
       " 'bc5a4df4-7a4f-4dc7-97c3-1998f3d7d3b3',\n",
       " 'bfef51eb-1d4a-4146-88ca-9e5a16216dd3',\n",
       " '1498f9c5-fb70-4022-adec-d8d238988ed0',\n",
       " 'eeac46aa-2b70-4b19-9949-ec338a132a9b',\n",
       " '20fa4f4c-6753-4719-8d59-5904dfe9fe3b',\n",
       " 'c3c70d63-9755-434d-9e01-a4ef2a416937',\n",
       " '7518f6c3-5a01-4c68-957b-ff358a712395']"
      ]
     },
     "execution_count": 21,
     "metadata": {},
     "output_type": "execute_result"
    }
   ],
   "source": [
    "vector_store.add(nodes)"
   ]
  },
  {
   "cell_type": "code",
   "execution_count": 22,
   "metadata": {},
   "outputs": [
    {
     "data": {
      "text/plain": [
       "{'dimension': 1536,\n",
       " 'index_fullness': 0.0,\n",
       " 'namespaces': {},\n",
       " 'total_vector_count': 0}"
      ]
     },
     "execution_count": 22,
     "metadata": {},
     "output_type": "execute_result"
    }
   ],
   "source": [
    "pc_index.describe_index_stats()"
   ]
  },
  {
   "cell_type": "code",
   "execution_count": 23,
   "metadata": {},
   "outputs": [
    {
     "name": "stdout",
     "output_type": "stream",
     "text": [
      "{'document_title': '\"Vibrant Einstein Canvas Print: A Stylish and High-Quality Addition to Your Home Decor\"', 'questions_this_excerpt_can_answer': '1. What type of artwork is featured on the Vibrant Einstein Canvas Print?\\n2. Where can the Vibrant Einstein Canvas Print be displayed in a home or office setting?\\n3. What materials are used in the production of the Vibrant Einstein Canvas Print to ensure high quality and durability?'}\n",
      "Node ID: ff724ff6-f7e9-48af-8efd-c47701e61958\n",
      "Text: About this itemGrafitti art decor Einstein wall art painting on\n",
      "canvas contemporary art for living room high definition giclee prints\n",
      "artwork for living room bedroom decoration. This is a good choice for\n",
      "gifts for relatives and friends.is is a good choice for gifts for\n",
      "relatives and friends.A perfect wall decorations paintings for living\n",
      "room, b...\n"
     ]
    }
   ],
   "source": [
    "print(nodes[0].metadata)\n",
    "print(nodes[0])"
   ]
  },
  {
   "cell_type": "code",
   "execution_count": 38,
   "metadata": {},
   "outputs": [],
   "source": [
    "from openai import OpenAI\n",
    "client = OpenAI()\n",
    "\n",
    "def get_sys_message(q, k):\n",
    "    # get embedding\n",
    "    result = client.embeddings.create(\n",
    "        input=[q],\n",
    "        model=embed_model_3_small\n",
    "    )\n",
    "\n",
    "    # retrieve from Pinecone vector store\n",
    "    xq = result.data[0].embedding\n",
    "\n",
    "    # search\n",
    "    res2 = pc_index.query(vector=xq, top_k=k, include_metadata=True)\n",
    "    \n",
    "    context = \"\"\n",
    "    for match in res2['matches']:\n",
    "        dict_obj = json.loads(match['metadata']['_node_content'])\n",
    "        context += dict_obj['text'] + \" \"\n",
    "    context = context.replace(\"\\n\", \"\")\n",
    "\n",
    "    return context"
   ]
  },
  {
   "cell_type": "code",
   "execution_count": 39,
   "metadata": {},
   "outputs": [],
   "source": [
    "queries = [\"Based on the product description, describe what the product is and its main purpose.\",\n",
    "           \"Describe the potential customer of this product and the emotions associated with it.\",\n",
    "           \"Describe how does the product look like, focusing on physical and visual features \\\n",
    "            such as size, material, color, odour, taste, weight.\",\n",
    "           \"Describe any specific details or elements of the product that make it different \\\n",
    "            from similar products, including any phrases, symbols, or messages\",\n",
    "           \"What is most loved and hated about this product?\"\n",
    "]   "
   ]
  },
  {
   "cell_type": "code",
   "execution_count": 40,
   "metadata": {},
   "outputs": [
    {
     "data": {
      "text/plain": [
       "'Great product. Looks great Love it , it is exactly as shown. I loved Cute Great product Same the picture Just like the description. I love it Love it!! Looks just like the picture . Super cute !! Beautifl! It is what you think it is, and it happens to be well packaged, has a mouting loop on back, and print is perfect unless you walk around are wearing jewelers loupes....I would absolutley buy again or buy as a gift. Good As described. Came well packaged. Beautiful canvas! Amazing quality and you can feel the appreciation from the company. And as a customer it makes me want to come back again and again Real nice Looks great  Beautiful! Amazing! '"
      ]
     },
     "execution_count": 40,
     "metadata": {},
     "output_type": "execute_result"
    }
   ],
   "source": [
    "# try a query\n",
    "get_sys_message(q=queries[0], k=20)"
   ]
  },
  {
   "cell_type": "code",
   "execution_count": 41,
   "metadata": {},
   "outputs": [],
   "source": [
    "def rag_openAI_gpt(model, q, k, prompt):\n",
    "    f=get_sys_message(q, k)\n",
    "    \n",
    "    response = client.chat.completions.create(\n",
    "    model=model,\n",
    "    messages=[\n",
    "        {\"role\": \"system\", \"content\": \"Instruction: use the information in\" + f + \"to answer the user's question.\"},\n",
    "        {\"role\": \"user\", \"content\": prompt},\n",
    "        {\"role\": \"assistant\", \"content\": f},\n",
    "        {\"role\": \"user\", \"content\": \"What is the answer?\"}\n",
    "    ]\n",
    "    )\n",
    "    return response.choices[0].message.content"
   ]
  },
  {
   "cell_type": "code",
   "execution_count": 42,
   "metadata": {},
   "outputs": [
    {
     "name": "stdout",
     "output_type": "stream",
     "text": [
      "<Query: Based on the product description, describe what the product is and its main purpose.>\n",
      "Based on the reviews, the product seems to be exactly as described and shown in the picture. Customers have expressed their love for it, mentioning that it is cute, great, beautiful, and looks just like the picture. The product is well-packaged, has a mounting loop on the back, and the print quality is perfect. Customers are pleased with the quality and would buy it again or as a gift.\n",
      "\n",
      "<Query: Describe the potential customer of this product and the emotions associated with it.>\n",
      "Based on the reviews and product description, it seems that the artwork is a large, brightly colored painting that brings joy to the customers who purchased it. The quality is praised, with the colors being described as vibrant and true to the pictures online. While one reviewer mentioned that the material felt a bit cheap, the overall consensus is that the artwork exceeded expectations and is worth the purchase. The customers express their love for the piece and some even mention that they would buy it again or as a gift.\n",
      "\n",
      "<Query: Describe how does the product look like, focusing on physical and visual features             such as size, material, color, odour, taste, weight.>\n",
      "Based on the information provided in the reviews, the product seems to be well-received by customers. It is described as being exactly as shown, cute, gorgeous, with vibrant colors, and of good quality. The packaging is also praised, and customers appreciate the attention to detail from the company. Despite one reviewer mentioning that it may feel a bit cheap, overall, the feedback is positive. The product is said to be just like the photo, arriving ready to hang, and worth the price. It is recommended for purchase or as a gift.\n",
      "\n",
      "<Query: Describe any specific details or elements of the product that make it different             from similar products, including any phrases, symbols, or messages>\n",
      "Based on the reviews and the product description, the product seems to be of high quality, accurately represented, and visually appealing. Customers appreciate the colors and overall look of the product, mentioning that it looks exactly like the picture and adds vibrancy to their living space. Some users even went the extra mile to enhance its appearance further, which resulted in a satisfactory outcome. Overall, the product is well-received, and customers express a desire to repurchase or recommend it as a gift.\n",
      "\n",
      "<Query: What is most loved and hated about this product?>\n",
      "Based on the reviews and description provided, the product seems to be highly praised for its accurate depiction, vibrant colors, good size, amazing quality, and overall satisfaction from customers. It appears to be a well-loved and appreciated piece of art that adds beauty to the living space.\n",
      "\n"
     ]
    },
    {
     "data": {
      "text/plain": [
       "{1: 'Based on the reviews, the product seems to be exactly as described and shown in the picture. Customers have expressed their love for it, mentioning that it is cute, great, beautiful, and looks just like the picture. The product is well-packaged, has a mounting loop on the back, and the print quality is perfect. Customers are pleased with the quality and would buy it again or as a gift.',\n",
       " 2: 'Based on the reviews and product description, it seems that the artwork is a large, brightly colored painting that brings joy to the customers who purchased it. The quality is praised, with the colors being described as vibrant and true to the pictures online. While one reviewer mentioned that the material felt a bit cheap, the overall consensus is that the artwork exceeded expectations and is worth the purchase. The customers express their love for the piece and some even mention that they would buy it again or as a gift.',\n",
       " 3: 'Based on the information provided in the reviews, the product seems to be well-received by customers. It is described as being exactly as shown, cute, gorgeous, with vibrant colors, and of good quality. The packaging is also praised, and customers appreciate the attention to detail from the company. Despite one reviewer mentioning that it may feel a bit cheap, overall, the feedback is positive. The product is said to be just like the photo, arriving ready to hang, and worth the price. It is recommended for purchase or as a gift.',\n",
       " 4: 'Based on the reviews and the product description, the product seems to be of high quality, accurately represented, and visually appealing. Customers appreciate the colors and overall look of the product, mentioning that it looks exactly like the picture and adds vibrancy to their living space. Some users even went the extra mile to enhance its appearance further, which resulted in a satisfactory outcome. Overall, the product is well-received, and customers express a desire to repurchase or recommend it as a gift.',\n",
       " 5: 'Based on the reviews and description provided, the product seems to be highly praised for its accurate depiction, vibrant colors, good size, amazing quality, and overall satisfaction from customers. It appears to be a well-loved and appreciated piece of art that adds beauty to the living space.'}"
      ]
     },
     "execution_count": 42,
     "metadata": {},
     "output_type": "execute_result"
    }
   ],
   "source": [
    "# Run\n",
    "analyses = {}\n",
    "for i in range(len(queries)):\n",
    "    response = rag_openAI_gpt(model=gpt_3_5_turbo, q=queries[i], k=20, prompt=\"Product Description and Reviews\")\n",
    "    print(f\"<Query: {queries[i]}>\")\n",
    "    print(response)\n",
    "    analyses[i+1] = response\n",
    "    print()\n",
    "analyses"
   ]
  },
  {
   "cell_type": "code",
   "execution_count": 43,
   "metadata": {},
   "outputs": [],
   "source": [
    "# Save responses to the log file\n",
    "logging.info(analyses)"
   ]
  },
  {
   "cell_type": "markdown",
   "metadata": {},
   "source": [
    "## **Part 3: Image Generation**\n",
    "- For each product, based on the information extracted from the product description and customer reviews, craft prompts to guide the image generation process effectively.\n",
    "- Use the OpenAI’s DALLE 2 to generate 3~5 images for each product based on your crafted prompts. Experiment with different prompts and settings to best visualize what you believe is a good illustration of the product based on product description and customer reviews.\n",
    "- If necessary, iterate on your prompts based on initial results to refine the illustrations.\n",
    "- Compare AI-generated product images with the actual product images posted in real world. Are they similar or different? In what dimensions? Do you think AI is able to illustrate the products well? Why or why not?\n",
    "- Provide analyses and explanations of your findings."
   ]
  },
  {
   "cell_type": "code",
   "execution_count": 44,
   "metadata": {},
   "outputs": [],
   "source": [
    "# Change keys to dictionary\n",
    "analyses = {\n",
    "    \"Product Description and Purpose\": analyses[1],\n",
    "    \"Potential Customer/Audience\": analyses[2],\n",
    "    \"Physical and Visual Features\": analyses[3],\n",
    "    \"Specific Details\": analyses[4],\n",
    "    \"Product Sentiment\": analyses[5]\n",
    "}"
   ]
  },
  {
   "cell_type": "code",
   "execution_count": 45,
   "metadata": {},
   "outputs": [],
   "source": [
    "# Craft prompt\n",
    "prompt = f\"\"\"   \n",
    "        Generate an image of a product using the following information:\n",
    "        Description: {analyses[\"Product Description and Purpose\"]}. \n",
    "        Audience: {analyses[\"Potential Customer/Audience\"]}.\n",
    "        Physical and Visual: {analyses[\"Physical and Visual Features\"]}. \n",
    "        Details: {analyses[\"Specific Details\"]}.\n",
    "        Sentiment: {analyses[\"Product Sentiment\"]}.\n",
    "        \"\"\""
   ]
  },
  {
   "cell_type": "code",
   "execution_count": 46,
   "metadata": {},
   "outputs": [
    {
     "data": {
      "text/plain": [
       "True"
      ]
     },
     "execution_count": 46,
     "metadata": {},
     "output_type": "execute_result"
    }
   ],
   "source": [
    "# Generate images using DALL-E 3\n",
    "response = openai.images.generate(\n",
    "    model=\"dall-e-3\",\n",
    "    prompt=prompt,\n",
    "    size=\"1024x1024\",\n",
    "    quality=\"standard\",\n",
    "    n=1,\n",
    ")\n",
    "\n",
    "import webbrowser\n",
    "webbrowser.open(response.data[0].url)"
   ]
  },
  {
   "cell_type": "code",
   "execution_count": 47,
   "metadata": {},
   "outputs": [],
   "source": [
    "# Craft prompt\n",
    "prompt2 = f\"\"\"   \n",
    "        Generate an image of a product using the following information. Make sure it captures specific elements of the product:\n",
    "        Description: {analyses[\"Product Description and Purpose\"]}. \n",
    "        Audience: {analyses[\"Potential Customer/Audience\"]}.\n",
    "        Physical and Visual: {analyses[\"Physical and Visual Features\"]}. \n",
    "        Details: {analyses[\"Specific Details\"]}.\n",
    "        Sentiment: {analyses[\"Product Sentiment\"]}.\n",
    "        \"\"\""
   ]
  },
  {
   "cell_type": "code",
   "execution_count": 48,
   "metadata": {},
   "outputs": [
    {
     "data": {
      "text/plain": [
       "True"
      ]
     },
     "execution_count": 48,
     "metadata": {},
     "output_type": "execute_result"
    }
   ],
   "source": [
    "# Generate images using DALL-E 3\n",
    "response = openai.images.generate(\n",
    "    model=\"dall-e-3\",\n",
    "    prompt=prompt2,\n",
    "    size=\"1024x1024\",\n",
    "    quality=\"standard\",\n",
    "    n=1,\n",
    ")\n",
    "\n",
    "import webbrowser\n",
    "webbrowser.open(response.data[0].url)"
   ]
  },
  {
   "cell_type": "code",
   "execution_count": 49,
   "metadata": {},
   "outputs": [],
   "source": [
    "# Craft prompt\n",
    "prompt3 = f\"\"\"   \n",
    "        Generate an image of a product using the following information. Focus on emotions associated with the product:\n",
    "        Description: {analyses[\"Product Description and Purpose\"]}. \n",
    "        Audience: {analyses[\"Potential Customer/Audience\"]}.\n",
    "        Physical and Visual: {analyses[\"Physical and Visual Features\"]}. \n",
    "        Details: {analyses[\"Specific Details\"]}.\n",
    "        Sentiment: {analyses[\"Product Sentiment\"]}.\n",
    "        \"\"\""
   ]
  },
  {
   "cell_type": "code",
   "execution_count": 51,
   "metadata": {},
   "outputs": [
    {
     "data": {
      "text/plain": [
       "True"
      ]
     },
     "execution_count": 51,
     "metadata": {},
     "output_type": "execute_result"
    }
   ],
   "source": [
    "# Generate images using DALL-E 3\n",
    "response = openai.images.generate(\n",
    "    model=\"dall-e-3\",\n",
    "    prompt=prompt3,\n",
    "    size=\"1024x1024\",\n",
    "    quality=\"standard\",\n",
    "    n=1,\n",
    ")\n",
    "\n",
    "import webbrowser\n",
    "webbrowser.open(response.data[0].url)"
   ]
  },
  {
   "cell_type": "code",
   "execution_count": 52,
   "metadata": {},
   "outputs": [],
   "source": [
    "# Craft prompt\n",
    "prompt4 = f\"\"\"   \n",
    "        Generate an image of a product using the following information. Make sure to include the phrase or message that is an important element of the product:\n",
    "        Description: {analyses[\"Product Description and Purpose\"]}. \n",
    "        Audience: {analyses[\"Potential Customer/Audience\"]}.\n",
    "        Physical and Visual: {analyses[\"Physical and Visual Features\"]}. \n",
    "        Details: {analyses[\"Specific Details\"]}.\n",
    "        Sentiment: {analyses[\"Product Sentiment\"]}.\n",
    "        \"\"\""
   ]
  },
  {
   "cell_type": "code",
   "execution_count": 53,
   "metadata": {},
   "outputs": [
    {
     "data": {
      "text/plain": [
       "True"
      ]
     },
     "execution_count": 53,
     "metadata": {},
     "output_type": "execute_result"
    }
   ],
   "source": [
    "# Generate images using DALL-E 3\n",
    "response = openai.images.generate(\n",
    "    model=\"dall-e-3\",\n",
    "    prompt=prompt4,\n",
    "    size=\"1024x1024\",\n",
    "    quality=\"standard\",\n",
    "    n=1,\n",
    ")\n",
    "\n",
    "import webbrowser\n",
    "webbrowser.open(response.data[0].url)"
   ]
  },
  {
   "cell_type": "code",
   "execution_count": 54,
   "metadata": {},
   "outputs": [],
   "source": [
    "# Craft prompt\n",
    "prompt5 = f\"\"\"   \n",
    "        Generate an image of a product using the following information. Include Einstein and holding the sign with 'Love is the answer' message, garffiti on the background:\n",
    "        Description: {analyses[\"Product Description and Purpose\"]}. \n",
    "        Audience: {analyses[\"Potential Customer/Audience\"]}.\n",
    "        Physical and Visual: {analyses[\"Physical and Visual Features\"]}. \n",
    "        Details: {analyses[\"Specific Details\"]}.\n",
    "        Sentiment: {analyses[\"Product Sentiment\"]}.\n",
    "        \"\"\""
   ]
  },
  {
   "cell_type": "code",
   "execution_count": 55,
   "metadata": {},
   "outputs": [
    {
     "data": {
      "text/plain": [
       "True"
      ]
     },
     "execution_count": 55,
     "metadata": {},
     "output_type": "execute_result"
    }
   ],
   "source": [
    "# Generate images using DALL-E 3\n",
    "response = openai.images.generate(\n",
    "    model=\"dall-e-3\",\n",
    "    prompt=prompt5,\n",
    "    size=\"1024x1024\",\n",
    "    quality=\"standard\",\n",
    "    n=1,\n",
    ")\n",
    "\n",
    "import webbrowser\n",
    "webbrowser.open(response.data[0].url)"
   ]
  },
  {
   "cell_type": "code",
   "execution_count": 56,
   "metadata": {},
   "outputs": [],
   "source": [
    "# Craft prompt\n",
    "prompt6 = f\"\"\"   \n",
    "        Generate an image of a product using the following information. Include Einstein holding the sign with 'Love is the answer' message:\n",
    "        Description: {analyses[\"Product Description and Purpose\"]}. \n",
    "        Audience: {analyses[\"Potential Customer/Audience\"]}.\n",
    "        Physical and Visual: {analyses[\"Physical and Visual Features\"]}. \n",
    "        Details: {analyses[\"Specific Details\"]}.\n",
    "        Sentiment: {analyses[\"Product Sentiment\"]}.\n",
    "        \"\"\""
   ]
  },
  {
   "cell_type": "code",
   "execution_count": 57,
   "metadata": {},
   "outputs": [
    {
     "data": {
      "text/plain": [
       "True"
      ]
     },
     "execution_count": 57,
     "metadata": {},
     "output_type": "execute_result"
    }
   ],
   "source": [
    "# Generate images using DALL-E 3\n",
    "response = openai.images.generate(\n",
    "    model=\"dall-e-3\",\n",
    "    prompt=prompt6,\n",
    "    size=\"1024x1024\",\n",
    "    quality=\"standard\",\n",
    "    n=1,\n",
    ")\n",
    "\n",
    "import webbrowser\n",
    "webbrowser.open(response.data[0].url)"
   ]
  }
 ],
 "metadata": {
  "kernelspec": {
   "display_name": "talktalki",
   "language": "python",
   "name": "python3"
  },
  "language_info": {
   "codemirror_mode": {
    "name": "ipython",
    "version": 3
   },
   "file_extension": ".py",
   "mimetype": "text/x-python",
   "name": "python",
   "nbconvert_exporter": "python",
   "pygments_lexer": "ipython3",
   "version": "3.12.2"
  }
 },
 "nbformat": 4,
 "nbformat_minor": 2
}
